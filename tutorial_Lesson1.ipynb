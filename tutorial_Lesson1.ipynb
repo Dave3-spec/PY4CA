{
 "cells": [
  {
   "cell_type": "markdown",
   "metadata": {},
   "source": [
    "<table  style=\"width:100%\">\n",
    "<hr>\n",
    "<hd style=\"float:left\"><img align=\"left\" src=\"Python.jpeg\"></hd>\n",
    "    <br />\n",
    "<hd style=\"float:left; line-height:0.5px\"><h1 style=\"align:center; color:#0000ff\"><center>SCIENTIFIC COMPUTING AND CLIMATE APPLICATIONS</center></h1>\n",
    "<h2 style=\"align:center; color:#00f\"><center>Python for Climate Data Assessment and Statistics</center></h2>\n",
    "<h2 style=\"align:center; color:#00f\"><center>Python Absolute Beginner's Course 2019</center></h2><h5><center>Facilitator: Dr. Jeffrey N. A. Aryee </center></h5></hd>\n",
    "</hr>\n",
    "</table>\n",
    "\n",
    "<br /><br />\n",
    "\n",
    "\n",
    "<p>\n",
    "    \n",
    "<blockquote><h3 style=\"align:center, float:left; color:#f00\">\"Programming without an overall architecture or design in mind is like exploring a cave with only a flashlight: You don’t know where you’ve been, you don’t know where you’re going, and you don’t know quite where you are.\" — Danny Thorpe</h3></blockquote>\n",
    "\n",
    "<blockquote><h3 style=\"align:center, float:left; color:#f00\">\"All languages are limited. Python defines the limits.\" -- pyGyerph</h3></blockquote>\n",
    "\n",
    "</p>\n",
    "\n",
    "<br />\n",
    "<h2 style=\"color:#000000; text-decoration:underline\">Table of Contents</h2>\n",
    "<p>\n",
    "<ul>\n",
    "    <h4><a id='lecture-1'>Lecture 1</a></h4>\n",
    "    <li>Introduction to python, Data types, python indexing, python libraries</li>\n",
    "    <h4><a id='lecture-2'>Lecture 2</a></h4>\n",
    "    <li>Basic array ranging and simple visualization</li>\n",
    "    <ul>\n",
    "        <li>Univariate plots</li>\n",
    "        <li>Bivariate plots</li>\n",
    "        <li>Multivariate plots</li>\n",
    "    </ul>\n",
    "    <h4><a id='lecture-3'>Lecture 3</a></h4>\n",
    "    <li>Structures in Python (loops-while, for, etc.)  & Conditionals</li>\n",
    "    <li>Building Functions in Python</li>\n",
    "    <li>Advanced Functions in Python</li>\n",
    "    <h4><a id='lecture-4'>Lecture 4</a></h4>\n",
    "    <li>Field Visitation for Meteorological Data Retrieval</li>\n",
    "    <li>Advanced Visualization of Data TimeSeries (Seaborn, MetPy etc.)</li>\n",
    "    <li>Python application on the retrieved data</li>\n",
    "    <h4><a id='lecture-5'>Lecture 5</a></h4>\n",
    "    <li>Introduction to NetCDF, Open NetCDF files and making use of its data</li>\n",
    "    <li>Georeferenced Plotting</li>\n",
    "    <li>NetCDF and Georeferenced Plots</li>\n",
    "    <h4><a id='lecture-6'>Lecture 6</a></h4>\n",
    "    <li>Debugging a Python Script</li>\n",
    "    <li>Summary of Python Activities and Re-cap</li>\n",
    "</ul>\n",
    "</p>\n",
    "\n",
    "\n",
    "<br /><br /><p>\n",
    "<h4 style=\"color:#f00\">Reference Materials</h4>\n",
    "<h5><a href=\"https://pdfs.semanticscholar.org/fdab/96452f619046355de6bf94e9c778ff154c84.pdf\">Dawson, M. (2003). Python Programming for the Absolute Beginner</a></h5>\n",
    "<h5><a href=\"https://en.m.wikipedia.org/wiki/Python_(programming_language)\">https://en.m.wikipedia.org/wiki/Python_(programming_language)</a></h5>\n",
    "</p>\n",
    "<br /><br />\n",
    "<hr noshade size=5px>\n",
    "\n",
    "\n",
    "<h5 align=\"center\">Since the course is objective-oriented, we may not do a detailed python study. Rather, we will use best and simplified approaches in most cases. Wherever necessary during the course, the facilitator will only highlight or delve deeper (based on the current situation) on the Python topic of interest.</h5>"
   ]
  },
  {
   "cell_type": "markdown",
   "metadata": {},
   "source": [
    "# Lecture 1\n",
    "<p>\n",
    "<h2 style=\"color:#00f\">LESSON 1: Introduction to python, Data types, Indexing, Libraries </h2>\n",
    "</p>\n",
    "\n",
    "<p>\n",
    "<h3>What is Scientific Computing?</h3></p>\n",
    "<p>Scientific computing is the use of computer-based applications and programming tools to perform various science-based data \n",
    "assessment, manipulation and visualization. The goal at the end is to make meaningful scientific information out of the raw data that \n",
    "was initially available.   </p>\n",
    "<br />\n",
    "\n",
    "There are numerous programming tools, languages or packages that can be used for scientific computing. These are based on \n",
    "user preference and ease of use. A classical example of such tools is python, which to me, is most suited for this purpose \n",
    "(other programming communities will disagree!!!) \n",
    "<br />\n",
    "\n",
    "<p>\n",
    "In this class, the main aim is to teach fundamentals of Python programming language, usage and application. Over the coming \n",
    "weeks, we shall try to explore the usefulness of the Python language, along with its benefits in Climate Data Applications \n",
    "and Statistics.  \n",
    "</p>\n",
    "\n",
    "\n",
    "<p><h3>Why Python?</h3></p>\n",
    "<p>Python (programming language) Python is an interpreted, high-level, general-purpose programming language. Created by Guido van Rossum and first released in 1991, Python's design philosophy emphasizes code readability with its notable use of significant whitespace.\n",
    "Since most modern OS are written in C, compilers/interpreters for modern high-level languages are also written in C. Python is not an exception - its most popular/\"traditional\" implementation is called CPython and is written in C.\n",
    "As python is object-oriented, it has its own garbage collector whereas in C user has to manage memory on his own. C has compiled language. The complete source code is converted into a machine language which is easier for a computer to understand. Python on other hand is interpreted.</p>\n",
    "<p>Python can be integrated with other languages such as C, C++, and Java. This means that a programmer can take advantage of work already done in another language while using Python. It also means that he or she can leverage the strengths of other languages, such as the extra speed that C or C++ can offer, while still enjoying the ease of development that's a hallmark of Python programming. (M. Dawson, 2003, Python Programming for the Absolute Beginner)\n",
    "</p>\n",
    "<p> The advantages of Python programming spans, but is not limited to the following:</p>\n",
    "<ul>\n",
    "    <li>Python is powerful</li>\n",
    "    <li>Python is easy to learn and use</li>\n",
    "    <li>Python is free and open-source language</li>\n",
    "    <li>Python runs everywhere</li>\n",
    "    <li>Python is object-oriented</li>\n",
    "    <li>Python has a strong community</li>\n",
    "</ul>\n",
    "<p> This is just a little information on the above subject matter</p><br />\n",
    "\n",
    "<br />\n",
    "<h2 style=\"color:#f00\">THE REAL DEAL !!!</h2>\n",
    "<p><h3>Comments in Python</h3></p>\n",
    "Comments, although added to a line of code, is a non-executable part of the code. In simple terms, though they exist as part\n",
    "of the code, they have no effect on the code's execution. It only allows for readability of the code, and with ease. Python uses # for single line comments, and keeps multiple line comments in three opened and closed single or double quotes (''' ''' or \"\"\" \"\"\"). For example: <br />\n",
    "<p>#this is a single line comment</p>\n",
    "<p>''' <br />\n",
    "This is a multiple line comment. <br />\n",
    "The entire block between the quotes are the comments, and have no effect on the code. <br />\n",
    "'''</p>\n",
    "\n",
    "<p><h3>Printing onto the terminal in Python</h3></p>\n",
    "<p>It is a crucial step to look at, since over the course of study, we will be using this function a lot. Execution of the print function has the syntax <strong>print(variable)</strong>, which prints the variable onto the terminal. Sample examples are given in the cell below. Try it out and see how it works.\n",
    "</p><br />\n",
    "\n",
    "\n",
    "<p><h3>Introduction to Python Data types</h3></p>\n",
    "Python works with various data types, which include strings, integers, floats, boolean, arrays, lists, tuple, etc.\n",
    "In order to find the type of a particular variable, simply use the code,  type(variable). <h4>For example: type('hello world') produces str, type(2) produces int, type(2.0) produces float, etc.\n",
    "</h4><br />\n",
    "<h4 style=\"color:#f00\">     Question: What is the difference between 2 and 2.0?</h4>\n",
    "<br />\n",
    "<h4><big> i. Strings</big></h4>\n",
    "These are data types that are kept in either single- or double- quotes. eg., 'python', 'today', 'first_name', \"surname\", \"password\".\n",
    "It is inappropriate to close a single quote with a double-, or vice-versa. The opening and closing quotes must be same.\n",
    "In appropriate string types include \"here', 'class\", etc.\n",
    "<br />\n",
    "<h5 style=\"color:#00f\">the len() function</h5>\n",
    "the len() function, when used with a string variable, gives the number of characters in the given variable (spaces included).\n",
    "<br />\n",
    "<h5 style=\"color:#00f\">String concatenation</h5>\n",
    "String concatenation is achieved by simply using the '+' symbol.  On interactive interfaces, 'Hello '+'World' will output \n",
    "'Hello World', however, for core interfaces, one has to print out the result in order to have it show, using the print() function.\n",
    "<br />\n",
    "<h5 style=\"color:#00f\">String repetition</h5>\n",
    "String repetition is possible in Python by simply multiplying the text with your number of times to be repeated (count). For example, 'Hello'*3  produces 'HelloHelloHello'. \n",
    "<br />\n",
    "<h5 style=\"color:#00f\">String Escapes</h5>\n",
    "String escapes are used to tweak texts. For example, skipping to the next line ('\\n'), tabbing ('\\t'), etc.... <br /><br />\n",
    "\n",
    "<h3> SELECTED ESCAPE SEQUENCES </h3>\n",
    "<table width=80% align='center' border:2px>\n",
    "    <tr style=\"background-color:#c0c0c0\">\n",
    "        <th style=\"color:#00f\"> <h3 align='left'>Sequence / Syntax</h3></th>\n",
    "        <th style=\"color:#00f\"><h3 align='left'>Name</h3> </th>\n",
    "        <th style=\"color:#00f\"> <h3 align='left'>Description</h3> </th>\n",
    "        <hr noshade size=5px style=\"color:#000\">\n",
    "    </tr>\n",
    "    <tr>\n",
    "        <td><h5 align='left'>\\\\</h5></td><td><h5 align='left'>Backslash</h5></td> <td><h5 align='left'>Prints one backslash.</h5></td>\n",
    "    </tr>\n",
    "    <tr>\n",
    "        <td><h5 align='left'>\\'</h5></td><td><h5 align='left'>Single quote</h5></td> <td><h5 align='left'>Prints a single quote.</h5></td>\n",
    "    </tr>\n",
    "    <tr>\n",
    "        <td><h5 align='left'>\\\"</h5></td><td><h5 align='left'>Double quote</h5></td> <td><h5 align='left'>Prints a double quote.</h5></td>\n",
    "    </tr>\n",
    "    <tr>\n",
    "        <td><h5 align='left'>\\a</h5></td><td><h5 align='left'>Bell</h5></td> <td><h5 align='left'>Sounds (rings) the system bell.</h5></td>\n",
    "    </tr>\n",
    "    <tr>\n",
    "        <td><h5 align='left'>\\b</h5></td><td><h5 align='left'>Backspace</h5></td> <td><h5 align='left'>Moves cursor back one space.</h5></td>\n",
    "    </tr>\n",
    "    <tr>\n",
    "        <td><h5 align='left'>\\n</h5></td><td><h5 align='left'>Newline</h5></td> <td><h5 align='left'>Moves cursor to beginning of next line.</h5></td>\n",
    "    </tr>\n",
    "    <tr>\n",
    "        <td><h5 align='left'>\\t</h5></td><td><h5 align='left'>Horizontal Tab</h5></td> <td><h5 align='left'>Moves cursor forward one tab stop.</h5></td>\n",
    "    </tr>\n",
    "</table>\n"
   ]
  },
  {
   "cell_type": "code",
   "execution_count": 5,
   "metadata": {
    "scrolled": true
   },
   "outputs": [
    {
     "name": "stdout",
     "output_type": "stream",
     "text": [
      "<class 'str'>\n",
      "6\n",
      "Hello World!!!\n",
      "Hello \n",
      "World\n",
      "Hello \tWorld\n",
      " \n",
      "Hello World!!! Hello World!!! Hello World!!! Hello World!!! Hello World!!! Hello World!!! Hello World!!! Hello World!!! Hello World!!! Hello World!!! \n",
      "Hello \" World\n",
      "Hello ' World\n",
      "Hello ' World\n",
      "Hello \" World\n",
      "Hello \" World. This string has a double quote embedded in.\n"
     ]
    }
   ],
   "source": [
    "''' String Attributes to text\n",
    "Try your hands on them and also any thing that comes to mind (in the context of strings)\n",
    "'''\n",
    "print(type('Hello '))\n",
    "print(len('Hello '))\n",
    "print('Hello '+'World!!!')\n",
    "print('Hello \\nWorld')\n",
    "print('Hello \\tWorld')\n",
    "print(' ')\n",
    "print('Hello World!!! '*10)\n",
    "print('Hello \" World')\n",
    "print(\"Hello ' World\")\n",
    "print(\"Hello \\' World\")\n",
    "print(\"Hello \\\" World\")\n",
    "print('''Hello \" World. This string has a double quote embedded in.''')"
   ]
  },
  {
   "cell_type": "code",
   "execution_count": null,
   "metadata": {},
   "outputs": [],
   "source": []
  },
  {
   "cell_type": "markdown",
   "metadata": {},
   "source": [
    "<h4><big> ii. Handling Numbers</big></h4>\n",
    "\n",
    "Python has various representations of numbers. For a start, the basic ones we will be dealing with are integers and floats. You might be thinking, \"Numbers are numbers. What's the big deal?\" But integers and floats can act a little differently under special circumstances, as you'll see.<br /><br />\n",
    "\n",
    "<h4><big> Integers </big></h4>\n",
    "Integers are non-decimal digits, whereas floats have both whole and decimal portions. Examples of integers are 2, 4, -10, 0,  etc...\n",
    "<br />\n",
    "In Python 3, there is effectively no limit to how long an integer value can be. Of course, it is constrained by the amount of memory your system has, as are all things, but beyond that an integer can be as long as you need it to be: <br />\n",
    "\n",
    "\n",
    "<h4><big> Floating-Point Numbers </big></h4>\n",
    "The float type in Python designates a floating-point number. Float values are specified with a decimal point. Examples of floats are 2.1, 4.0, -21.5, -0., etc.   Optionally, the character e or E followed by a positive or negative integer may be appended to specify scientific notation: (for example .4e7)<br />\n",
    "\n",
    "\n",
    "\n",
    "\n",
    "<h4><big> Basic Arithmetic </big></h4>\n",
    "Numbers, in python, can be subjected to various computational forms, such as basic arithmetic (+, -, /, *, powers, mod, etc...)\n",
    "\n",
    "By default, using both float and integer in a singular arithmetic action returns a float result. (eg. 2 + 0.5). There are a few exceptions to this statement (just so you know)."
   ]
  },
  {
   "cell_type": "code",
   "execution_count": 135,
   "metadata": {},
   "outputs": [
    {
     "name": "stdout",
     "output_type": "stream",
     "text": [
      "<class 'float'>\n",
      "<class 'int'>\n",
      "3.0\n",
      "4.75\n",
      "4\n",
      "3\n"
     ]
    }
   ],
   "source": [
    "print(type(0.))\n",
    "print(type(0))\n",
    "\n",
    "print(2+1.)\n",
    "print(19/4)\n",
    "print(19//4)\n",
    "print(19%4)"
   ]
  },
  {
   "cell_type": "code",
   "execution_count": 9,
   "metadata": {},
   "outputs": [
    {
     "name": "stdout",
     "output_type": "stream",
     "text": [
      "8\n",
      "This string has a single (') and a double (\") quote.\n",
      "300\n"
     ]
    }
   ],
   "source": [
    "print(0o10)\n",
    "print('''This string has a single (') and a double (\") quote.''')\n",
    "a=b=c=300; print(c)"
   ]
  },
  {
   "cell_type": "markdown",
   "metadata": {},
   "source": [
    "<h4 style=\"color:#000\"><big> Boolean Data Type </big></h4>\n",
    "<p>\n",
    "    This comprises of only two variables (True or False). They mostly occur when an action is expected to return any of the two stated outputs. However, they can also be assigned to a variable by the user. Let's try to check their type below and find what the output is.\n",
    "</p>"
   ]
  },
  {
   "cell_type": "code",
   "execution_count": 45,
   "metadata": {},
   "outputs": [
    {
     "data": {
      "text/plain": [
       "bool"
      ]
     },
     "execution_count": 45,
     "metadata": {},
     "output_type": "execute_result"
    }
   ],
   "source": [
    "type(True)\n",
    "type(False)"
   ]
  },
  {
   "cell_type": "code",
   "execution_count": 58,
   "metadata": {},
   "outputs": [
    {
     "name": "stdout",
     "output_type": "stream",
     "text": [
      "<class 'bool'>\n",
      "<class 'bool'>\n"
     ]
    }
   ],
   "source": [
    "a=np.arange(5)\n",
    "b=any(a>10)\n",
    "print(type(any(a>10)))\n",
    "print(type(b))"
   ]
  },
  {
   "cell_type": "markdown",
   "metadata": {},
   "source": [
    "<p><h3 style=\"color:#000\">Variable Assignment</h3></p>\n",
    "These are approaches for passing value to a variable. The value assigned the variable could be of any data type. Assignments are achieved by using the \"=\" sign. The main ways to assign values to a variable are by initialization (=), input and passing from a sub-process. Multiple assignments (passing an assigned variable as value to a new variable) are also possible. <br />\n",
    "\n",
    "Examples are illustrated below."
   ]
  },
  {
   "cell_type": "code",
   "execution_count": 2,
   "metadata": {},
   "outputs": [
    {
     "name": "stdout",
     "output_type": "stream",
     "text": [
      "Enter your age:23\n",
      "23\n"
     ]
    }
   ],
   "source": [
    "a=[3,1,6,-20,8,7,0,-5,2,3]\n",
    "class_size=50\n",
    "ap=input('Enter your age:')\n",
    "print(ap)"
   ]
  },
  {
   "cell_type": "code",
   "execution_count": null,
   "metadata": {},
   "outputs": [],
   "source": []
  },
  {
   "cell_type": "markdown",
   "metadata": {},
   "source": [
    "<p><h3>Fundamental Python Packages</h3></p>\n",
    "Python has libraries for almost every activity. With advancing technologies, libraries are almost widely and readily available and can be called into the Python terminal for use, with the import function. Some of these libraries include numpy, scipy, etc. In this course, our emphasis will be on numpy, scipy, matplotlib, pandas, netCDF4, xarray, seaborn, to name a few.\n",
    "\n",
    "Let's delve more into them.\n",
    "<br />\n",
    "<h4 style=\"color:#00f\"><big> NUMPY </big></h4>\n",
    "Numpy basically refers to numerical python, and is used for numeric actions and calls, ranging from basic to complex numerical functions. There are various ways of importing and using the numpy function. The alias method will however be shown in this notebook, but other methods will also be used in the practical course session.\n",
    "\n",
    "<br />"
   ]
  },
  {
   "cell_type": "code",
   "execution_count": 25,
   "metadata": {},
   "outputs": [
    {
     "name": "stdout",
     "output_type": "stream",
     "text": [
      "5\n",
      "8\n",
      "4\n",
      "[-20  -5   0   1   2   3   3   6   7   8]\n",
      "-20\n",
      "[0 1 2 3 4]\n",
      "8\n",
      "[ 0.14  0.84 -0.28 -0.91  0.99  0.66  0.    0.96  0.91  0.14]\n"
     ]
    }
   ],
   "source": [
    "###Try out your hands on some numpy functions\n",
    "### Basic Arithmetic\n",
    "import numpy as np\n",
    "print(np.sum([2,3]))\n",
    "print(np.max([3,1,6,-20,8,7,0,-5,2,3]))   #### Print the maximum value in an array\n",
    "print(np.argmax([3,1,6,-20,8,7,0,-5,2,3]))   #### Print the position of the maximum value in an array (Remember python array indexing starts from 0)\n",
    "print(np.sort([3,1,6,-20,8,7,0,-5,2,3]))   #### Arrange the array from least to greatest value.\n",
    "print(np.min([3,1,6,-20,8,7,0,-5,2,3]))   #### Print the minimum value in an array\n",
    "print(np.arange(5))                       ### Create a range of values from 0 to n-1, which is 4 in this example.\n",
    "###np.arange by default has the syntax, np.arange(start,end,step). Default start (if unstated) is 0, and default step is 1.\n",
    "print(np.abs(-8))                                ### Prints out the absolute value of the given variable\n",
    "\n",
    "a=[3,1,6,-20,8,7,0,-5,2,3]\n",
    "print(np.round(np.sin(a),2))"
   ]
  },
  {
   "cell_type": "markdown",
   "metadata": {},
   "source": [
    "<h4 style=\"color:#00f\"><big> SCIPY </big></h4>\n",
    "Scipy (stands for scientific python) is used for scientific actions and calls. Scipy works almost similar to numpy, however with some scientific operational enhancements. Again, there are various ways of importing and using the scipy function. The alias method will again be displayed in the cell, with any other alternative tested in the class.\n",
    "\n",
    "<br />"
   ]
  },
  {
   "cell_type": "code",
   "execution_count": 161,
   "metadata": {},
   "outputs": [
    {
     "name": "stdout",
     "output_type": "stream",
     "text": [
      "5\n",
      "[ 0.14  0.84 -0.28 -0.91  0.99  0.66  0.    0.96  0.91  0.14]\n"
     ]
    }
   ],
   "source": [
    "###Try out your hands on some numpy functions\n",
    "### Basic Arithmetic\n",
    "import scipy as sp\n",
    "a=[3,1,6,-20,8,7,0,-5,2,3]\n",
    "print(sp.sum(a))\n",
    "\n",
    "print(sp.round_(sp.sin(a),2))"
   ]
  },
  {
   "cell_type": "markdown",
   "metadata": {},
   "source": [
    "<h4 style=\"color:#00f\"><big> MATPLOTLIB </big></h4>\n",
    "\n",
    "<br />"
   ]
  },
  {
   "cell_type": "code",
   "execution_count": 39,
   "metadata": {},
   "outputs": [
    {
     "data": {
      "text/plain": [
       "<matplotlib.lines.Line2D at 0x242a55ce0b8>"
      ]
     },
     "execution_count": 39,
     "metadata": {},
     "output_type": "execute_result"
    },
    {
     "data": {
      "image/png": "[encoded data removed]",
      "text/plain": [
       "<Figure size 432x288 with 1 Axes>"
      ]
     },
     "metadata": {
      "needs_background": "light"
     },
     "output_type": "display_data"
    }
   ],
   "source": [
    "import matplotlib.pyplot as p\n",
    "p.plot(np.sin(range(10)))\n",
    "p.bar(range(10),np.sin(range(10)),0.5,color='r')\n",
    "p.axhline(y=0, c='k')"
   ]
  },
  {
   "cell_type": "markdown",
   "metadata": {},
   "source": [
    "###  Next is to try out more examples."
   ]
  },
  {
   "cell_type": "markdown",
   "metadata": {},
   "source": [
    "<h1 align=\"center\" style=\"color:#f00\">End of Lecture 1</h1>\n",
    "<br />\n",
    "<h4 align=\"center\"> Try your hands on more examples and communicate if you have any challenges. </h4>\n"
   ]
  }
 ],
 "metadata": {
  "kernelspec": {
   "display_name": "Python 3",
   "language": "python",
   "name": "python3"
  },
  "language_info": {
   "codemirror_mode": {
    "name": "ipython",
    "version": 3
   },
   "file_extension": ".py",
   "mimetype": "text/x-python",
   "name": "python",
   "nbconvert_exporter": "python",
   "pygments_lexer": "ipython3",
   "version": "3.7.1"
  }
 },
 "nbformat": 4,
 "nbformat_minor": 2
}
