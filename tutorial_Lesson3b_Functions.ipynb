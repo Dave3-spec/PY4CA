{
 "cells": [
  {
   "cell_type": "markdown",
   "metadata": {},
   "source": [
    "<table  style=\"width:70%\">\n",
    "<hr>\n",
    "<hd style=\"float:left\"><img align=\"left\" src=\"Python.jpeg\"></hd>\n",
    "    <br />\n",
    "<hd style=\"float:left; line-height:0.5px\"><h1 style=\"align:center; color:#0000ff\"><center>SCIENTIFIC COMPUTING AND CLIMATE APPLICATIONS</center></h1>\n",
    "<h2 style=\"align:center; color:#00f\"><center>Python for Climate Data Assessment and Statistics</center></h2>\n",
    "<h2 style=\"align:center; color:#00f\"><center>Python Absolute Beginner's Course 2019</center></h2><h5><center>Facilitators: </center></h5>\n",
    "    <center>Dr. Jeffrey N. A. Aryee</center>\n",
    "    <center>Patrick Davies</center>\n",
    "    <center>Robert Johnson</center>\n",
    "    <center>Kwesi T. Quagraine</center>\n",
    "</hd>\n",
    "</hr>\n",
    "</table>\n",
    "\n",
    "<br /><br />\n"
   ]
  },
  {
   "cell_type": "markdown",
   "metadata": {},
   "source": [
    "# Lecture 3b\n",
    "\n",
    "At the end of the Lecture, participants should be able to :\n",
    "\n",
    "<ul>\n",
    "    <li> Understand how function works and build own functions</li>\n",
    "    <li> simply read and write data from/to a file </li>\n",
    "    <li> Combine the above to solve real-world Climate problems </li>\n",
    "    \n",
    "</ul>\n"
   ]
  },
  {
   "cell_type": "markdown",
   "metadata": {},
   "source": [
    "<h1 style=\"color:#f00\">FUNCTIONS in Python 3</h1>\n",
    "<p1>Functions, as used in any programming language, helps to simplify recursive, repetitive tasks. The goal of functions is to reduce the lines of code, and also to limit re-doing of same task over and over again.\n",
    "The word \"function\" has different meanings in mathematics and programming. In programming it refers to a named sequence of operations that perform a computation. Functions allow us to group a number of statements into a logical block. We communicate with a function through a clearly defined interface, providing certain parameters to the function, and receiving some information back.</p1>\n",
    "<p2> Importance of Functions include:</p2>\n",
    "<ul>\n",
    "    <li>Reduces the size of your code.</li>\n",
    "    <li>Saves typing and makes it easier to change the program later.</li>\n",
    "    <li>Makes the code clearer and readable.</li>\n",
    "    <li>Makes codes more manageable.</li>\n",
    "\n",
    "</ul>\n",
    "\n",
    "<h2> Syntax</h2>\n",
    "<p>\n",
    "In Python 3, functions are defined of identified by the <a>def</a> statement. On the first line, the first item is to specify def (for defining functions), followed by the function_name(). The parenthesis are necessary since every functions relies on arguments, hence the parenthesis holds all dependent arguments. See the Python 3 function syntax below </p>\n",
    "\n",
    "\n",
    "\n",
    "*def   function_name* (arg1, arg2 ...,argn): <br>\n",
    "\n",
    "        statements\n",
    "        return\n",
    "        \n",
    "<p3> The variables *arg1*,*arg2*,*argn* are the parameters needed for the execution of the function's *statements*</p3>\n",
    "\n",
    "\n",
    "<p>\n",
    "To pass output from the function into the console, main_program, etc., it's advisable to use the return statement, which is acceptable way for function outputs.\n",
    "</p>\n",
    "   \n",
    "<br />\n",
    "To invoke the function, you call the function_name on the actual input values, and each input value must denote a defined dummy argument. \n",
    "<br />\n",
    "<br />\n",
    "    \n",
    "<p>\n",
    "    Example\n",
    "</p>"
   ]
  },
  {
   "cell_type": "code",
   "execution_count": null,
   "metadata": {},
   "outputs": [],
   "source": [
    "def welcome():\n",
    "    c = 'Hello, you are welcome to PY4CA'\n",
    "    return c\n",
    "\n",
    "welcome()"
   ]
  },
  {
   "cell_type": "code",
   "execution_count": 39,
   "metadata": {},
   "outputs": [
    {
     "data": {
      "text/plain": [
       "50"
      ]
     },
     "execution_count": 39,
     "metadata": {},
     "output_type": "execute_result"
    }
   ],
   "source": [
    "def sum_of_nums(a,b):\n",
    "    c=a+b\n",
    "    return c\n",
    "    \n",
    "\n",
    "sum_of_nums(2,3)\n",
    "sum_of_nums(30,20)\n",
    "#sum_of_nums(1,2,3)"
   ]
  },
  {
   "cell_type": "code",
   "execution_count": null,
   "metadata": {
    "scrolled": true
   },
   "outputs": [],
   "source": [
    "# Example of a function that calculates the power of a number\n",
    "def power(a,b):\n",
    "    i=a**b          # Statement\n",
    "    return i        # return value\n",
    "x = 2\n",
    "y = 3\n",
    "power(x,y)        # 2 exponent 3"
   ]
  },
  {
   "cell_type": "markdown",
   "metadata": {},
   "source": [
    "<h2>Local and Global variables</h2>\n",
    "<p>From the two examples above, we could identify that there are variable outside and within the functions that we created. We can therefore group these varibles into Local and global variables.</p>\n",
    "<h3>Global Variable</h3>\n",
    "In Python, a variable declared outside of the function is known as global variable. This means, global variable can be accessed inside or outside of the function"
   ]
  },
  {
   "cell_type": "code",
   "execution_count": 5,
   "metadata": {},
   "outputs": [
    {
     "name": "stdout",
     "output_type": "stream",
     "text": [
      "X inside the function is 2\n"
     ]
    },
    {
     "data": {
      "text/plain": [
       "8"
      ]
     },
     "execution_count": 5,
     "metadata": {},
     "output_type": "execute_result"
    }
   ],
   "source": [
    "# x and y global variables which can be used everywhere in the code\n",
    "x = 2          \n",
    "y = 3\n",
    "\n",
    "def power(a,b):\n",
    "    i=a**b    \n",
    "    print('X inside the function is',x)\n",
    "    return i       \n",
    "power(x,y)"
   ]
  },
  {
   "cell_type": "markdown",
   "metadata": {},
   "source": [
    "<h1>Local Variable</h1>\n",
    "A variable declared inside the function's body or in the local scope is known as local variable. These variables can only be assessed within the function or local scope inwhich they are defined"
   ]
  },
  {
   "cell_type": "code",
   "execution_count": null,
   "metadata": {},
   "outputs": [],
   "source": [
    " # With the same example a,b and i are local variable, they exist only in the function\n",
    "x = 2          \n",
    "y = 3\n",
    "\n",
    "def power(a,b):\n",
    "    i=a**b          \n",
    "    return i       \n",
    "power(x,y)\n",
    "print(a)\n",
    "# print the variable i, a or b and give me the feedback"
   ]
  },
  {
   "cell_type": "markdown",
   "metadata": {},
   "source": [
    "<p>\n",
    "<h4 style=\"color:#f00\">Let's try out a simple function for computing potential temperature:</h4>\n",
    "</p>    \n",
    "    $$ \\theta= T (\\frac{P_o}{P_1})\\, ^{0.286}$$\n"
   ]
  },
  {
   "cell_type": "code",
   "execution_count": 8,
   "metadata": {
    "scrolled": true
   },
   "outputs": [
    {
     "data": {
      "text/plain": [
       "30.401184847410068"
      ]
     },
     "execution_count": 8,
     "metadata": {},
     "output_type": "execute_result"
    }
   ],
   "source": [
    "# Examples\n",
    "#Building the function\n",
    "def potential_temperature(T,P0,P1):\n",
    "    answer=T*(P0/P1)**0.286\n",
    "    return answer\n",
    "\n",
    "\n",
    "potential_temperature(28,1000,750)"
   ]
  },
  {
   "cell_type": "markdown",
   "metadata": {},
   "source": [
    "# Growing the Function to Automatically Deal with conditions"
   ]
  },
  {
   "cell_type": "code",
   "execution_count": null,
   "metadata": {},
   "outputs": [],
   "source": [
    "# Examples\n",
    "#Building the function\n",
    "def potential_temperature(T,P0,P1,units):\n",
    "    if units.upper()=='C' or units.upper()=='CELSIUS':\n",
    "        T=T+273.15\n",
    "        answer=T*(P0/P1)**0.286\n",
    "        answer=answer-273.15\n",
    "    elif units.upper()=='K' or units.upper()=='KELVIN':\n",
    "        answer=T*(P0/P1)**0.286\n",
    "    return answer\n",
    "\n",
    "\n",
    "potential_temperature(28,1000,750,'c')"
   ]
  },
  {
   "cell_type": "markdown",
   "metadata": {},
   "source": [
    "# Looping within Functions"
   ]
  },
  {
   "cell_type": "code",
   "execution_count": null,
   "metadata": {
    "scrolled": true
   },
   "outputs": [],
   "source": [
    "# Examples\n",
    "#Building the function\n",
    "def test(x,max_x,x_interval):\n",
    "    while(x<max_x):\n",
    "        print(x)\n",
    "        x+=x_interval\n",
    "    return x\n",
    "\n",
    "\n",
    "#\n",
    "test(2,50,2)"
   ]
  },
  {
   "cell_type": "markdown",
   "metadata": {},
   "source": [
    "# Simple Plotting within Functions"
   ]
  },
  {
   "cell_type": "code",
   "execution_count": null,
   "metadata": {
    "scrolled": true
   },
   "outputs": [],
   "source": [
    "# Examples\n",
    "#Let's pass a number beyond 10, and generate random numbers of that size. Afterwards, we plot it's sin() values against the random values.\n",
    "def sin_plot(x):\n",
    "    import numpy as np\n",
    "    import scipy as sp\n",
    "    import matplotlib.pyplot as plt\n",
    "    if (type(x)==int):\n",
    "        cp=plt.plot(sp.randn(x),np.sin(sp.randn(x)),'ro')\n",
    "        #plt.show()\n",
    "    elif (type(x)==float):\n",
    "        cp=plt.plot(sp.randn(np.int(x)),np.sin(sp.randn(np.int(x))),'gv')\n",
    "        #plt.show()\n",
    "    else:\n",
    "        pass\n",
    "   \n",
    "    if (np.size(cp)==1):\n",
    "        plt.xlabel('Random Nubers', fontsize=12)\n",
    "        plt.ylabel('Trig. Values', fontsize=12)\n",
    "        plt.title('Plotting within a Function'.upper(), fontsize=14)\n",
    "    return cp \n",
    "\n",
    "\n",
    "sin_plot(100)"
   ]
  },
  {
   "cell_type": "markdown",
   "metadata": {},
   "source": [
    "#  Dealing with data in files\n",
    "Python has various ways of reading data from files. In this session, I'll introduce you to one of the simplest methods, which is a sub-package of both numpy and scipy. It is the <a>genfromtxt</a> package."
   ]
  },
  {
   "cell_type": "code",
   "execution_count": 40,
   "metadata": {
    "scrolled": true
   },
   "outputs": [],
   "source": [
    "#data=sp.genfromtxt(file_name)"
   ]
  },
  {
   "cell_type": "code",
   "execution_count": 41,
   "metadata": {},
   "outputs": [],
   "source": [
    "?sp.genfromtxt"
   ]
  },
  {
   "cell_type": "code",
   "execution_count": null,
   "metadata": {},
   "outputs": [],
   "source": []
  },
  {
   "cell_type": "markdown",
   "metadata": {},
   "source": [
    "<h1 align=\"center\" style=\"color:#f00\">End of Lecture</h1>\n",
    "<br />\n",
    "<h4 align=\"center\"> Try your hands on more examples and communicate if you have any challenges. </h4>\n"
   ]
  }
 ],
 "metadata": {
  "kernelspec": {
   "display_name": "Python 3",
   "language": "python",
   "name": "python3"
  },
  "language_info": {
   "codemirror_mode": {
    "name": "ipython",
    "version": 3
   },
   "file_extension": ".py",
   "mimetype": "text/x-python",
   "name": "python",
   "nbconvert_exporter": "python",
   "pygments_lexer": "ipython3",
   "version": "3.7.1"
  }
 },
 "nbformat": 4,
 "nbformat_minor": 2
}
